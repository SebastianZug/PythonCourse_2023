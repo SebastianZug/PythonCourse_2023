{
 "cells": [
  {
   "cell_type": "markdown",
   "metadata": {},
   "source": [
    "# Jupyter notebooks and Python scripts\n",
    "\n",
    "## Python basics"
   ]
  },
  {
   "cell_type": "code",
   "execution_count": null,
   "metadata": {},
   "outputs": [],
   "source": []
  },
  {
   "cell_type": "markdown",
   "metadata": {},
   "source": [
    "<span style='background :yellow' > 1. Task: _Copy your Python class `complex_calc` to the next cell. Separate the class definition and the acutal usage.._ </span>"
   ]
  },
  {
   "cell_type": "code",
   "execution_count": null,
   "metadata": {},
   "outputs": [],
   "source": []
  },
  {
   "cell_type": "markdown",
   "metadata": {},
   "source": [
    "## Markdown basics"
   ]
  },
  {
   "cell_type": "markdown",
   "metadata": {},
   "source": []
  },
  {
   "cell_type": "markdown",
   "metadata": {},
   "source": []
  },
  {
   "cell_type": "markdown",
   "metadata": {},
   "source": [
    "<span style='background :yellow' > 2. Task: _Write the solution of a of the quadratic equation as Latex in Markdown._ </span>"
   ]
  },
  {
   "cell_type": "markdown",
   "metadata": {},
   "source": []
  },
  {
   "cell_type": "markdown",
   "metadata": {},
   "source": [
    "<span style='background :yellow' > 3. Task: _Investigate the use of tables in Markdown. Write down a short table with your name, study topic, ...._ </span>"
   ]
  },
  {
   "cell_type": "markdown",
   "metadata": {},
   "source": []
  },
  {
   "cell_type": "markdown",
   "metadata": {},
   "source": [
    "### And now everthing together\n",
    "\n",
    "<span style='background :yellow' > 4. Task: _Start a new notebook and write a program that calculates the intersection of two straight lines. Add a short explanation to the code as Markdown text. At the end, generate a pdf of your project._ </span>\n",
    "\n",
    "Use ChatGPT by promting `Write a python code that determines the crossing of two lines given by y = mx + n`"
   ]
  }
 ],
 "metadata": {
  "language_info": {
   "name": "python"
  },
  "orig_nbformat": 4
 },
 "nbformat": 4,
 "nbformat_minor": 2
}
