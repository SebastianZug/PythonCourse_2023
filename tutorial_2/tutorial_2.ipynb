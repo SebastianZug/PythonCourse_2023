{
 "cells": [
  {
   "cell_type": "markdown",
   "id": "17c0e25c",
   "metadata": {},
   "source": [
    "# Introduction to image processing based on opencv "
   ]
  },
  {
   "cell_type": "markdown",
   "id": "2d11b171",
   "metadata": {},
   "source": [
    "## Basic operations on images"
   ]
  },
  {
   "cell_type": "code",
   "execution_count": null,
   "id": "ed61f70a",
   "metadata": {},
   "outputs": [],
   "source": [
    "import cv2\n",
    "from matplotlib import pyplot as plt\n",
    "import numpy as np"
   ]
  },
  {
   "cell_type": "markdown",
   "id": "f9775b11",
   "metadata": {},
   "source": [
    "<span style='background :yellow' > 1. Task: *Read a the image `robotsInTown-A.png` from tutorial_2 folder. Display it. Please consider that we work in a notebook - the actual visualization commands are different from python script.* </span>"
   ]
  },
  {
   "cell_type": "code",
   "execution_count": null,
   "id": "580fa82e",
   "metadata": {},
   "outputs": [],
   "source": []
  },
  {
   "cell_type": "markdown",
   "id": "bdb1461e",
   "metadata": {},
   "source": [
    "We talked about different matrices representing the 3 colors - let's take a closer view."
   ]
  },
  {
   "cell_type": "code",
   "execution_count": null,
   "id": "ee0616b3",
   "metadata": {},
   "outputs": [],
   "source": [
    "image.shape  # we will see this member variable for inspecting \n",
    "             # the dimension of an data object in pandas again!"
   ]
  },
  {
   "cell_type": "code",
   "execution_count": null,
   "id": "48bb5359",
   "metadata": {},
   "outputs": [],
   "source": [
    "# extract image colors as seperate matrices\n"
   ]
  },
  {
   "cell_type": "code",
   "execution_count": null,
   "id": "925e15e8",
   "metadata": {},
   "outputs": [],
   "source": [
    "# manipulate image content and colors by indexing and conditions (white zones)\n"
   ]
  },
  {
   "cell_type": "code",
   "execution_count": null,
   "id": "b091d576",
   "metadata": {},
   "outputs": [],
   "source": [
    "# generate a grayscale image\n"
   ]
  },
  {
   "cell_type": "markdown",
   "id": "e9099d9f",
   "metadata": {},
   "source": [
    "The grayscale image is a perfect starting point for investigating the brightness!\n",
    "\n",
    "<span style='background :yellow' > 2. Task: *Identify the darkest areas in the image and reference them by green color.* </span>"
   ]
  },
  {
   "cell_type": "code",
   "execution_count": null,
   "id": "360d4f3d",
   "metadata": {},
   "outputs": [],
   "source": [
    "# resizing\n"
   ]
  },
  {
   "cell_type": "markdown",
   "id": "772398ec",
   "metadata": {},
   "source": [
    "<span style='background :yellow' > 3. Task: *Implement a function that resizes images by a percentage while keeping the aspect ratio.* </span>"
   ]
  },
  {
   "cell_type": "code",
   "execution_count": null,
   "id": "b36eed83",
   "metadata": {},
   "outputs": [],
   "source": []
  },
  {
   "cell_type": "markdown",
   "id": "29bc9c97",
   "metadata": {},
   "source": [
    "## Manual annotations"
   ]
  },
  {
   "cell_type": "markdown",
   "id": "d0ab45c0",
   "metadata": {},
   "source": [
    "Let's add some annotations to the image. We want to mark blue parking sign."
   ]
  },
  {
   "cell_type": "code",
   "execution_count": null,
   "id": "2e58f209",
   "metadata": {},
   "outputs": [],
   "source": [
    "image = cv2.circle(image, (160, 100), \n",
    "                   radius=10, \n",
    "                   color=(0, 255, 255), \n",
    "                   thickness=-1)\n",
    "plt.imshow(image)"
   ]
  },
  {
   "cell_type": "code",
   "execution_count": null,
   "metadata": {},
   "outputs": [],
   "source": [
    "image = cv2.putText( \n",
    "  img = image,\n",
    "  text = \"RobotTraces Bot\",\n",
    "  org = (450, 350),\n",
    "  fontFace = cv2.FONT_HERSHEY_DUPLEX,\n",
    "  fontScale = 1.0,\n",
    "  color = (255, 0, 0),\n",
    "  thickness = 2)\n",
    "\n",
    "plt.imshow(image)"
   ]
  },
  {
   "cell_type": "markdown",
   "id": "3c7cee7d",
   "metadata": {},
   "source": [
    "<span style='background :yellow' > 3. Task: _Mark the pedestrian by a red box. Use the method `cv2.rectangle()`._ </span>"
   ]
  },
  {
   "cell_type": "code",
   "execution_count": null,
   "id": "236e6fe4",
   "metadata": {},
   "outputs": [],
   "source": []
  },
  {
   "cell_type": "markdown",
   "id": "9b9092b2",
   "metadata": {},
   "source": [
    "Destination reached? Nope, this process should be done automatically!"
   ]
  },
  {
   "cell_type": "markdown",
   "id": "7cb9fd24",
   "metadata": {},
   "source": [
    "## Finding patterns"
   ]
  },
  {
   "cell_type": "code",
   "execution_count": null,
   "id": "9ecc45ab",
   "metadata": {},
   "outputs": [],
   "source": [
    "image_path = 'pedestrian_pattern.png'\n",
    "template = cv2.cvtColor(cv2.imread(image_path), cv2.COLOR_BGR2RGB)\n",
    "gray_image_template = cv2.cvtColor(template, cv2.COLOR_BGR2GRAY)\n",
    "plt.imshow(gray_image_template, cmap=\"gray\")\n",
    "gray_image_template.shape"
   ]
  },
  {
   "cell_type": "markdown",
   "id": "7e9097c0",
   "metadata": {},
   "source": [
    "<span style='background :yellow' > 4. Task: _Mark the pedestrian **automatically** by a red box. Use the `cv2.rectangle()` method again. Check the usage of `cv2.matchTemplate()` and `minMaxLoc()`._ </span>"
   ]
  },
  {
   "cell_type": "code",
   "execution_count": null,
   "id": "077b630d",
   "metadata": {},
   "outputs": [],
   "source": [
    "# Template Matching durchführen\n",
    "gray_image = cv2.cvtColor(image, cv2.COLOR_BGR2GRAY)\n",
    "result = cv2.matchTemplate(gray_image, gray_image_template, cv2.TM_CCOEFF_NORMED)\n",
    "plt.imshow(result, cmap=\"gray\")\n",
    "\n",
    "min_val, max_val, min_loc, max_loc = cv2.minMaxLoc(result)\n",
    "\n",
    "print(min_val, max_val, min_loc, max_loc )"
   ]
  },
  {
   "cell_type": "markdown",
   "id": "9d222f09",
   "metadata": {},
   "source": [
    "<span style='background :yellow' > 5. Task: _Generate a copy of the original image and cut some parts. Load the new image and check the robustness of our pattern matching._ </span>"
   ]
  },
  {
   "cell_type": "code",
   "execution_count": null,
   "id": "6970c379",
   "metadata": {},
   "outputs": [],
   "source": []
  },
  {
   "cell_type": "markdown",
   "id": "bbdfd215",
   "metadata": {},
   "source": [
    "## Discussion"
   ]
  },
  {
   "cell_type": "markdown",
   "id": "dbeda777",
   "metadata": {},
   "source": [
    "1. Algorithm: We compare the color values of individual cells - The solution is not rotation and scale invariant!.\n",
    "2. Code: We \"build\" a fast prototype using ChatGPT, but it is extremely poorly maintainable and bulky!\n",
    "3. Evaluation: we have no feeling for how well the algorithms work, systematic tests are missing.\n",
    "4. Performance: Up to now the duration of the computation did not play a role. But what if we suddenly want to evaluate 200,000 images or implement a real-time capable application."
   ]
  },
  {
   "cell_type": "code",
   "execution_count": null,
   "id": "c3f8471a",
   "metadata": {},
   "outputs": [],
   "source": [
    "hog = cv2.HOGDescriptor()\n",
    "hog.setSVMDetector(cv2.HOGDescriptor_getDefaultPeopleDetector())\n",
    "\n",
    "image = cv2.imread('robotsInTown-B.png')\n",
    "image = cv2.cvtColor(image, cv2.COLOR_BGR2RGB)\n",
    "image_gray = cv2.cvtColor(image, cv2.COLOR_BGR2GRAY)\n",
    "\n",
    "rects, weights = hog.detectMultiScale(image_gray, scale=1.05)\n",
    "print(rects)\n",
    "\n",
    "for i, (x, y, w, h) in enumerate(rects):\n",
    "    if weights[i] < 0.7:\n",
    "        cv2.rectangle(image,(x, y), (x+w, y+h), (255, 0, 0), 2)\n",
    "    if weights[i] > 0.7:\n",
    "        cv2.rectangle(image,(x, y), (x+w, y+h), (0, 255, 0), 2)\n",
    "\n",
    "plt.imshow(image)"
   ]
  },
  {
   "cell_type": "markdown",
   "id": "8a58dac0",
   "metadata": {},
   "source": [
    "<span style='background :yellow' > 6. Task: _In the project folder you have a second image `robotsInTown-B.png`. Load the image and apply the HOG people detector. Extend the code and change the color according to the quality (`weight`)._ </span>"
   ]
  },
  {
   "cell_type": "code",
   "execution_count": null,
   "id": "9cc77b8d",
   "metadata": {},
   "outputs": [],
   "source": []
  }
 ],
 "metadata": {
  "kernelspec": {
   "display_name": "Python 3 (ipykernel)",
   "language": "python",
   "name": "python3"
  },
  "language_info": {
   "codemirror_mode": {
    "name": "ipython",
    "version": 3
   },
   "file_extension": ".py",
   "mimetype": "text/x-python",
   "name": "python",
   "nbconvert_exporter": "python",
   "pygments_lexer": "ipython3",
   "version": "3.10.12"
  }
 },
 "nbformat": 4,
 "nbformat_minor": 5
}
