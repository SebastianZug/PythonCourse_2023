{
 "cells": [
  {
   "cell_type": "markdown",
   "metadata": {},
   "source": [
    "# Basics of data analysis using pandas\n",
    "\n",
    "This tutorial is highly motivated by the notebook of `lakshanagv`  [Complete-guide-to-data-analysis-using-Python---IMDB-movies-data](https://github.com/lakshanagv/Complete-guide-to-data-analysis-using-Python---IMDB-movies-data/blob/main/Quick%20guide%20to%20Data%20Analysis%20using%20Pandas.ipynb). Many thanks for the comprehensive notebook!"
   ]
  },
  {
   "cell_type": "code",
   "execution_count": null,
   "metadata": {},
   "outputs": [],
   "source": [
    "import pandas as pd\n",
    "import numpy as np"
   ]
  },
  {
   "cell_type": "markdown",
   "metadata": {},
   "source": [
    "## Pandas basic data structures"
   ]
  },
  {
   "cell_type": "markdown",
   "metadata": {},
   "source": [
    "Pandas knows two basic data types `Series` and `DataFrame`. \n",
    "\n",
    "| Pandas Series   | Pandas DataFrame                                             |\n",
    "| --------------- | ------------------------------------------------------------ |\n",
    "| Format          | One-dimensional                                              | Two-dimensional |m\n",
    "| Data Types      | Homogeneous - Series elements must be of the same data type. | Heterogeneous - DataFrame elements can have different data types.                              \n",
    "| Number of Items | Resizable - Once created, the size cannot be changed.        | Resizable - Items can be deleted or added to an existing DataFrame. "
   ]
  },
  {
   "cell_type": "code",
   "execution_count": null,
   "metadata": {},
   "outputs": [],
   "source": [
    "# series with random numbers using \"numpy\"\n",
    "s_1 = pd.Series(np.random.randn(5))\n",
    "\n",
    "# random numbers with index\n",
    "s_2 = pd.Series(np.random.randn(5), index=[\"a\", \"b\", \"c\", \"d\", \"e\"])\n",
    "\n",
    "# more realistic ... time series (the data is not a data actually)\n",
    "data = {\"09:28:52.419\": 1016, \"09:28:52.430\": 1017, \"09:28:52.441\": 1017}\n",
    "s_3 = pd.Series(data)"
   ]
  },
  {
   "cell_type": "code",
   "execution_count": null,
   "metadata": {},
   "outputs": [],
   "source": [
    "df_1 = pd.DataFrame(np.random.randn(6, 4))\n",
    "\n",
    "df_2 = pd.DataFrame(\n",
    "    {\n",
    "        \"A\": True,\n",
    "        \"B\": pd.date_range(\"20230101\", periods=4),\n",
    "        \"C\": pd.Series(np.random.randn(4)),\n",
    "        \"D\": np.random.randint(16, size=4),\n",
    "        \"E\": pd.Categorical([\"A\", \"A\", \"B\", \"C\"]),\n",
    "        \"F\": \"foo\",\n",
    "    }\n",
    ")"
   ]
  },
  {
   "cell_type": "markdown",
   "metadata": {},
   "source": [
    "## Evaluating data set\n",
    "\n",
    "### Importing data"
   ]
  },
  {
   "cell_type": "markdown",
   "metadata": {},
   "source": [
    "<span style='background :yellow' > 1. Task: *Read the csv file containing the movie data set (`ÌMDB-Movie-Data.csv`) in a pandas data frame.* </span>"
   ]
  },
  {
   "cell_type": "code",
   "execution_count": null,
   "metadata": {},
   "outputs": [],
   "source": []
  },
  {
   "cell_type": "code",
   "execution_count": null,
   "metadata": {},
   "outputs": [],
   "source": [
    "# Inspect the data (head, columns, shape, tail)\n"
   ]
  },
  {
   "cell_type": "code",
   "execution_count": null,
   "metadata": {},
   "outputs": [],
   "source": [
    "# describe, info\n"
   ]
  },
  {
   "cell_type": "code",
   "execution_count": null,
   "metadata": {},
   "outputs": [],
   "source": [
    "# unique values\n"
   ]
  },
  {
   "cell_type": "code",
   "execution_count": null,
   "metadata": {},
   "outputs": [],
   "source": [
    "# min, max values\n"
   ]
  },
  {
   "cell_type": "markdown",
   "metadata": {},
   "source": [
    "<span style='background :yellow' > 2. Task: *Investigate the `value_count()` method of Python and identify the `Director` with the largest count.* </span>"
   ]
  },
  {
   "cell_type": "code",
   "execution_count": null,
   "metadata": {},
   "outputs": [],
   "source": []
  },
  {
   "cell_type": "markdown",
   "metadata": {},
   "source": [
    "### Selection of data"
   ]
  },
  {
   "cell_type": "code",
   "execution_count": null,
   "metadata": {},
   "outputs": [],
   "source": [
    "# Indexing columns as Series and Dataframe\n"
   ]
  },
  {
   "cell_type": "code",
   "execution_count": null,
   "metadata": {},
   "outputs": [],
   "source": [
    "# Subsetting (loc, iloc)\n"
   ]
  },
  {
   "cell_type": "code",
   "execution_count": null,
   "metadata": {},
   "outputs": [],
   "source": [
    "# conditional filtering\n"
   ]
  },
  {
   "cell_type": "markdown",
   "metadata": {},
   "source": [
    "<span style='background :yellow' > 3. Task: *What is the title of the lowest rated movie? Which movie receives the highest rates?* </span>"
   ]
  },
  {
   "cell_type": "code",
   "execution_count": null,
   "metadata": {},
   "outputs": [],
   "source": []
  },
  {
   "cell_type": "markdown",
   "metadata": {},
   "source": [
    "<span style='background :yellow' > 4. Task: *Generate a new data frame referencing `Title`, `Rating` and `Year` for all movies belonging to `Action,Comedy,Drama` genre. </span>"
   ]
  },
  {
   "cell_type": "code",
   "execution_count": null,
   "metadata": {},
   "outputs": [],
   "source": []
  },
  {
   "cell_type": "markdown",
   "metadata": {},
   "source": [
    "<span style='background :yellow' > 5. Task: *Find all movies from `Ridley Scott`. List year, title and rating, sorted by year. </span>"
   ]
  },
  {
   "cell_type": "code",
   "execution_count": null,
   "metadata": {},
   "outputs": [],
   "source": []
  },
  {
   "cell_type": "markdown",
   "metadata": {},
   "source": [
    "### Group operations"
   ]
  },
  {
   "cell_type": "code",
   "execution_count": null,
   "metadata": {},
   "outputs": [],
   "source": [
    "# Basic grouping (mean Rating) (count Movies)\n"
   ]
  },
  {
   "cell_type": "code",
   "execution_count": null,
   "metadata": {},
   "outputs": [],
   "source": [
    "df.groupby([\"Director\", \"Year\"])[[\"Title\"]].count().unstack().fillna(\"\")"
   ]
  },
  {
   "cell_type": "markdown",
   "metadata": {},
   "source": [
    "### Individual functions "
   ]
  },
  {
   "cell_type": "code",
   "execution_count": null,
   "metadata": {},
   "outputs": [],
   "source": [
    "df.Actors.str.split(',').explode().value_counts()"
   ]
  },
  {
   "cell_type": "markdown",
   "metadata": {},
   "source": [
    "Find all movies with \"Christian Bale\" as actor!"
   ]
  },
  {
   "cell_type": "code",
   "execution_count": null,
   "metadata": {},
   "outputs": [],
   "source": []
  },
  {
   "cell_type": "markdown",
   "metadata": {},
   "source": [
    "Another example"
   ]
  },
  {
   "cell_type": "code",
   "execution_count": null,
   "metadata": {},
   "outputs": [],
   "source": [
    "def color_if_2016(val):\n",
    "    color = 'red' if val ==2016 else 'black'\n",
    "    return 'color: %s' % color\n",
    "\n",
    "df[['Year', 'Title']].head(15).style.applymap(color_if_2016)"
   ]
  },
  {
   "cell_type": "markdown",
   "metadata": {},
   "source": [
    "<span style='background :yellow' > 6. Task: *Extend the function and include the 10 most active actors to the evaluation. </span>"
   ]
  },
  {
   "cell_type": "code",
   "execution_count": null,
   "metadata": {},
   "outputs": [],
   "source": []
  },
  {
   "cell_type": "markdown",
   "metadata": {},
   "source": [
    "<span style='background :yellow' > 7. Task: *Apply the `rating_group` function to the Rating column. Identify the Director with the highest count on 'Good' classifications </span>"
   ]
  },
  {
   "cell_type": "code",
   "execution_count": null,
   "metadata": {},
   "outputs": [],
   "source": [
    "# Classify movies based on ratings\n",
    "def rating_group(rating):\n",
    "    if rating >= 7.5:\n",
    "        return 'Good'\n",
    "    elif rating >= 6.0:\n",
    "        return 'Average'\n",
    "    else:\n",
    "        return 'Bad'"
   ]
  }
 ],
 "metadata": {
  "kernelspec": {
   "display_name": "Python 3",
   "language": "python",
   "name": "python3"
  },
  "language_info": {
   "codemirror_mode": {
    "name": "ipython",
    "version": 3
   },
   "file_extension": ".py",
   "mimetype": "text/x-python",
   "name": "python",
   "nbconvert_exporter": "python",
   "pygments_lexer": "ipython3",
   "version": "3.10.12"
  },
  "orig_nbformat": 4
 },
 "nbformat": 4,
 "nbformat_minor": 2
}
